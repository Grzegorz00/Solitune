{
 "cells": [
  {
   "cell_type": "code",
   "execution_count": null,
   "metadata": {},
   "outputs": [],
   "source": [
    "import numpy as np  \n",
    "import pandas as pd\n",
    "import seaborn as sns\n",
    "import matplotlib.pyplot as plt\n",
    "import plotly.express as px\n",
    "import os"
   ]
  },
  {
   "cell_type": "code",
   "execution_count": null,
   "metadata": {},
   "outputs": [],
   "source": [
    "os.listdir(\"../input/employee-future-prediction\")\n"
   ]
  },
  {
   "cell_type": "code",
   "execution_count": null,
   "metadata": {},
   "outputs": [],
   "source": [
    "emp=pd.read_csv(\"../input/employee-future-prediction/Employee.csv\")"
   ]
  },
  {
   "cell_type": "code",
   "execution_count": null,
   "metadata": {},
   "outputs": [],
   "source": [
    "emp.head()"
   ]
  },
  {
   "cell_type": "code",
   "execution_count": null,
   "metadata": {},
   "outputs": [],
   "source": [
    "emp.describe()"
   ]
  },
  {
   "cell_type": "code",
   "execution_count": null,
   "metadata": {},
   "outputs": [],
   "source": [
    "emp.info()"
   ]
  },
  {
   "cell_type": "markdown",
   "metadata": {},
   "source": [
    "Education analysis"
   ]
  },
  {
   "cell_type": "code",
   "execution_count": null,
   "metadata": {},
   "outputs": [],
   "source": [
    "edu = emp.Education.value_counts()\n",
    "edu.index"
   ]
  },
  {
   "cell_type": "code",
   "execution_count": null,
   "metadata": {},
   "outputs": [],
   "source": [
    "plt.figure(figsize=(10,6))\n",
    "ax = plt.subplot()\n",
    "colors=[\"#6495ED\",\"#9FE2BF\",\"#CCCCFF\"]\n",
    "ax.pie(edu.values,labels = edu.index,shadow = True , autopct ='%.0f%%',colors=colors,radius=2)\n",
    "plt.title(\"Education\")\n",
    "plt.legend(edu.index)\n",
    "plt.show()"
   ]
  },
  {
   "cell_type": "markdown",
   "metadata": {},
   "source": [
    "See education of leaving employees"
   ]
  },
  {
   "cell_type": "code",
   "execution_count": null,
   "metadata": {},
   "outputs": [],
   "source": [
    "left=emp[emp[\"LeaveOrNot\"]==1]"
   ]
  },
  {
   "cell_type": "code",
   "execution_count": null,
   "metadata": {},
   "outputs": [],
   "source": [
    "left_edu=left.Education.value_counts()\n",
    "plt.figure(figsize=(10,6))\n",
    "ax = plt.subplot()\n",
    "colors=[\"#6495ED\",\"#9FE2BF\",\"#CCCCFF\"]\n",
    "ax.pie(left_edu.values,labels = left_edu.index,shadow = True , autopct ='%.0f%%',colors=colors,radius=2)\n",
    "plt.title(\"Education\")\n",
    "plt.legend(left_edu.index)\n",
    "plt.show()"
   ]
  },
  {
   "cell_type": "markdown",
   "metadata": {},
   "source": [
    "What gender are the leaving employees ?"
   ]
  },
  {
   "cell_type": "code",
   "execution_count": null,
   "metadata": {},
   "outputs": [],
   "source": [
    "fcount=sum(emp[\"Gender\"]==\"Female\")\n",
    "mcount=sum(emp[\"Gender\"]==\"Male\")\n",
    "fpercent=fcount/emp.Gender.value_counts()\n",
    "mpercent=mcount/emp.Gender.value_counts()"
   ]
  },
  {
   "cell_type": "code",
   "execution_count": null,
   "metadata": {},
   "outputs": [],
   "source": [
    "sns.set_theme(style=\"darkgrid\")\n",
    "ax = sns.countplot(x=\"Gender\", data=emp)\n",
    "\n",
    "for bar in ax.patches:\n",
    "   \n",
    "    ax.annotate(format(bar.get_height(), '.2f'),\n",
    "                   (bar.get_x() + bar.get_width() / 2,\n",
    "                    bar.get_height()), ha='center', va='center',\n",
    "                   size=15, xytext=(0, 8),\n",
    "                   textcoords='offset points')"
   ]
  },
  {
   "cell_type": "code",
   "execution_count": null,
   "metadata": {},
   "outputs": [],
   "source": [
    "tot=emp.Gender.value_counts()\n",
    "fcount=tot.Female\n",
    "mcount=tot.Male\n",
    "fpercent=fcount/emp.Gender.count()\n",
    "mpercent=mcount/emp.Gender.count()\n",
    "fpercent,mpercent"
   ]
  },
  {
   "cell_type": "code",
   "execution_count": null,
   "metadata": {},
   "outputs": [],
   "source": [
    "sns.set_theme(style=\"darkgrid\")\n",
    "ax = sns.countplot(x=\"Gender\", data=left)\n",
    "\n",
    "for bar in ax.patches:\n",
    "   \n",
    "    ax.annotate(format(bar.get_height(), '.2f'),\n",
    "                   (bar.get_x() + bar.get_width() / 2,\n",
    "                    bar.get_height()), ha='center', va='center',\n",
    "                   size=15, xytext=(0, 8),\n",
    "                   textcoords='offset points')"
   ]
  },
  {
   "cell_type": "markdown",
   "metadata": {},
   "source": [
    "As we see, women leave the company more often"
   ]
  },
  {
   "cell_type": "markdown",
   "metadata": {},
   "source": [
    "Researching how gender affects the data."
   ]
  },
  {
   "cell_type": "code",
   "execution_count": null,
   "metadata": {},
   "outputs": [],
   "source": [
    "plt.figure(figsize=(10,8))\n",
    "sns.distplot(emp['Age'],color='blue',bins=15)\n",
    "plt.tight_layout()\n",
    "plt.grid(True)\n",
    "plt.show()"
   ]
  },
  {
   "cell_type": "markdown",
   "metadata": {},
   "source": [
    "Company mainly hires young people"
   ]
  },
  {
   "cell_type": "code",
   "execution_count": null,
   "metadata": {},
   "outputs": [],
   "source": [
    "plt.figure(figsize=(15,5))\n",
    "sns.kdeplot(data=emp, x=\"JoiningYear\",hue=\"Gender\",palette='husl',hue_order=[\"Female\",\"Male\"],)"
   ]
  },
  {
   "cell_type": "markdown",
   "metadata": {},
   "source": [
    "In 2016 and 2018 company didn't hire a lot of women"
   ]
  },
  {
   "cell_type": "markdown",
   "metadata": {},
   "source": [
    "Exploring correlation"
   ]
  },
  {
   "cell_type": "code",
   "execution_count": null,
   "metadata": {},
   "outputs": [],
   "source": [
    "plt.figure(figsize=(16,9))\n",
    "sns.heatmap(emp.corr(),annot= True,cmap = 'crest')\n",
    "plt.show()"
   ]
  },
  {
   "cell_type": "markdown",
   "metadata": {},
   "source": [
    "Payment Tier , Joining year are the most affecting features on whether the employee leave or not .\n",
    "\n"
   ]
  },
  {
   "cell_type": "markdown",
   "metadata": {},
   "source": [
    "Payment tiers."
   ]
  },
  {
   "cell_type": "code",
   "execution_count": null,
   "metadata": {},
   "outputs": [],
   "source": [
    "sns.countplot(data = emp, x= emp['PaymentTier'],hue = emp[\"Gender\"],palette=\"mako\")"
   ]
  },
  {
   "cell_type": "markdown",
   "metadata": {},
   "source": [
    "There is a huge bias in payment Tier level 3 between male and females,and some bias in level 2.¶\n"
   ]
  },
  {
   "cell_type": "code",
   "execution_count": null,
   "metadata": {},
   "outputs": [],
   "source": [
    "sns.countplot(data = left, x= left['PaymentTier'],hue = left[\"JoiningYear\"],palette=\"rocket\")"
   ]
  },
  {
   "cell_type": "markdown",
   "metadata": {},
   "source": [
    "Most of employees who left the company are the recent joiners.at 2018 and most of them have payment tier 3.¶\n"
   ]
  },
  {
   "cell_type": "code",
   "execution_count": null,
   "metadata": {},
   "outputs": [],
   "source": [
    "sns.countplot(data = left, x= left['PaymentTier'],hue = left[\"ExperienceInCurrentDomain\"],palette=\"tab10\")"
   ]
  },
  {
   "cell_type": "markdown",
   "metadata": {},
   "source": [
    "This shows that most of employees who left the company have payment Tier of level 3 and most of the have 2 years of experience.\n",
    "this may convey that the company recently has tried to attract employees with high payment tiers."
   ]
  },
  {
   "cell_type": "markdown",
   "metadata": {},
   "source": [
    "Exploring offices location"
   ]
  },
  {
   "cell_type": "code",
   "execution_count": null,
   "metadata": {},
   "outputs": [],
   "source": [
    "\n",
    "sns.histplot(data=emp, x=\"City\", hue=\"Gender\", multiple=\"dodge\",palette=\"mako\" ,shrink=.8)"
   ]
  },
  {
   "cell_type": "markdown",
   "metadata": {},
   "source": [
    "Bias in hiring females occures at Banglore office"
   ]
  },
  {
   "cell_type": "code",
   "execution_count": null,
   "metadata": {},
   "outputs": [],
   "source": [
    "sns.histplot(data=left, x=\"City\", multiple=\"dodge\",color=\"blue\" ,shrink=.8)"
   ]
  },
  {
   "cell_type": "markdown",
   "metadata": {},
   "source": [
    "Most of employees who left the company are loacated at Pune office."
   ]
  },
  {
   "cell_type": "markdown",
   "metadata": {},
   "source": [
    "1. Most of employees who left the company are Master's holders.\n",
    "2. Most of employees who left the company have Payment Tier 3 and 2 years of experience.\n",
    "3. There is bias in hiring females occures at Banglore office.\n",
    "4. Most of employees who left the company are Located at Pune Office.\n",
    "5. There is a huge bias in payment Tier level 3 between male and females,and some bias in level 2."
   ]
  }
 ],
 "metadata": {
  "kernelspec": {
   "display_name": "Python 3.10.4 ('cenv': venv)",
   "language": "python",
   "name": "python3"
  },
  "language_info": {
   "name": "python",
   "version": "3.10.4"
  },
  "orig_nbformat": 4,
  "vscode": {
   "interpreter": {
    "hash": "506ec6d29130756b3ebb7233dcdfc000ba6630fc6e95c582fe304a93b160dd10"
   }
  }
 },
 "nbformat": 4,
 "nbformat_minor": 2
}
